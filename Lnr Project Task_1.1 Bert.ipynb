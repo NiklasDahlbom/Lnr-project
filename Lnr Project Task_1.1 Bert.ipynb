{
  "cells": [
    {
      "cell_type": "markdown",
      "metadata": {
        "id": "nRaFjNBjkWLP"
      },
      "source": [
        "### Lnr Project Task 1.1 Bert\n",
        "\n",
        "Niklas Dahlbom, ndahlbom@kth.se, ndahlbo@upv.edu.es"
      ]
    },
    {
      "cell_type": "markdown",
      "metadata": {
        "id": "7d1Owhk0xnFc"
      },
      "source": [
        "### Imports"
      ]
    },
    {
      "cell_type": "code",
      "execution_count": 1,
      "metadata": {
        "colab": {
          "base_uri": "https://localhost:8080/",
          "height": 35
        },
        "id": "bCiZ3-fmlStK",
        "outputId": "4821ec09-4f65-443e-aae9-212fa7dd7fcd"
      },
      "outputs": [],
      "source": [
        "import pandas as pd\n",
        "from readerEXIST2025 import EXISTReader\n",
        "import torch\n",
        "from torch.utils.data import Dataset, DataLoader, TensorDataset\n",
        "import numpy as np\n",
        "import os\n",
        "import re\n",
        "import random\n",
        "from sklearn.metrics import accuracy_score, precision_recall_fscore_support\n",
        "from sklearn.preprocessing import LabelEncoder\n",
        "from transformers import  AutoTokenizer, AutoModelForSequenceClassification,  Trainer, TrainingArguments,  EarlyStoppingCallback\n",
        "import random"
      ]
    },
    {
      "cell_type": "markdown",
      "metadata": {
        "id": "T8a0qOw1yX9G"
      },
      "source": [
        "### Read datasets"
      ]
    },
    {
      "cell_type": "code",
      "execution_count": 2,
      "metadata": {
        "colab": {
          "base_uri": "https://localhost:8080/"
        },
        "id": "ZQB83Hpvlzco",
        "outputId": "20049016-dd14-4aac-9181-2cf6bd58d78f"
      },
      "outputs": [
        {
          "name": "stdout",
          "output_type": "stream",
          "text": [
            "1       Writing a uni essay in my local pub with a cof...\n",
            "2       @UniversalORL it is 2021 not 1921. I dont appr...\n",
            "5       According to a customer I have plenty of time ...\n",
            "6       So only 'blokes' drink beer? Sorry, but if you...\n",
            "7       New to the shelves this week - looking forward...\n",
            "                              ...                        \n",
            "3255    idk why y’all bitches think having half your a...\n",
            "3256    This has been a part of an experiment with @Wo...\n",
            "3257    \"Take me already\" \"Not yet. You gotta be ready...\n",
            "3258    @clintneedcoffee why do you look like a whore?...\n",
            "3259    ik when mandy says “you look like a whore” i l...\n",
            "Name: text, Length: 2870, dtype: object\n",
            "-------------------\n"
          ]
        }
      ],
      "source": [
        "reader_train = EXISTReader(\"/Users/niklasdahlbom/Documents/Valencia/Lnr/Project/EXIST 2025 Tweets Dataset/training/EXIST2025_training.json\")\n",
        "reader_dev = EXISTReader(\"/Users/niklasdahlbom/Documents/Valencia/Lnr/Project/EXIST 2025 Tweets Dataset/dev/EXIST2025_dev.json\")\n",
        "reader_test = EXISTReader(\"/Users/niklasdahlbom/Documents/Valencia/Lnr/Project/EXIST 2025 Tweets Dataset/test/EXIST2025_test_clean.json\")\n",
        "\n",
        "EnTrainTask1, EnDevTask1 = reader_train.get(lang=\"EN\", subtask=\"1\"), reader_dev.get(lang=\"EN\", subtask=\"1\")\n",
        "SpTrainTask1, SpDevTask1 = reader_train.get(lang=\"ES\", subtask=\"1\"), reader_dev.get(lang=\"ES\", subtask=\"1\")\n",
        "\n",
        "SpTestTask1, EnTestTask1 = reader_test.get(lang=\"ES\", subtask=\"1\", include_ambiguous=True),  reader_test.get(lang=\"EN\", subtask=\"1\", include_ambiguous=True)\n",
        "\n",
        "print(EnTrainTask1[1])\n",
        "print(\"-------------------\")"
      ]
    },
    {
      "cell_type": "code",
      "execution_count": 3,
      "metadata": {
        "colab": {
          "base_uri": "https://localhost:8080/"
        },
        "id": "8JMr4Dr8yWWN",
        "outputId": "859b1999-363e-45ad-e3d8-39b8b6644fd5"
      },
      "outputs": [
        {
          "name": "stdout",
          "output_type": "stream",
          "text": [
            "NO: 1733\n",
            "YES: 1137\n"
          ]
        }
      ],
      "source": [
        "from collections import Counter\n",
        "\n",
        "label_counts = Counter(EnTrainTask1[2])\n",
        "print(\"NO:\", label_counts[\"NO\"])\n",
        "print(\"YES:\", label_counts[\"YES\"])"
      ]
    },
    {
      "cell_type": "markdown",
      "metadata": {
        "id": "TwpywTpSytMt"
      },
      "source": [
        "### Preprocessing"
      ]
    },
    {
      "cell_type": "code",
      "execution_count": 4,
      "metadata": {
        "id": "zJ6VoJw4yu4_"
      },
      "outputs": [],
      "source": [
        "def clean_text(text_list):\n",
        "    cleaned_corpus = []\n",
        "    for text in text_list:\n",
        "        text = text.lower()\n",
        "        text = re.sub(r\"https?://\\S+\", \"\", text)  # Removes URLs\n",
        "        text = re.sub(r\"@\\w+\", \"\", text)          # Removes mentions\n",
        "        text = text.replace(\"#\", \"\")              # Removes Hashtags\n",
        "        text = re.sub(r\"\\s+\", \" \", text).strip()   # Removes spaces\n",
        "        cleaned_corpus.append(text)\n",
        "    return cleaned_corpus"
      ]
    },
    {
      "cell_type": "markdown",
      "metadata": {
        "id": "Cc7lGppHF70r"
      },
      "source": [
        "### Set Seed"
      ]
    },
    {
      "cell_type": "code",
      "execution_count": 5,
      "metadata": {
        "id": "TFRtdrUvF9hd"
      },
      "outputs": [],
      "source": [
        "def set_seed(seed=2025):\n",
        "    # Random seed\n",
        "    random.seed(seed)\n",
        "    # Numpy seed\n",
        "    np.random.seed(seed)\n",
        "    # Torch seed\n",
        "    torch.manual_seed(seed)\n",
        "    torch.cuda.manual_seed(seed)\n",
        "    torch.backends.cudnn.deterministic = True\n",
        "    torch.backends.cudnn.benchmark = True\n",
        "    # os seed\n",
        "    os.environ['PYTHONHASHSEED'] = str(seed)"
      ]
    },
    {
      "cell_type": "markdown",
      "metadata": {
        "id": "8OAQLYdJGHk2"
      },
      "source": [
        "### Dataset class"
      ]
    },
    {
      "cell_type": "code",
      "execution_count": 6,
      "metadata": {
        "id": "BZFLQcLtGLEJ"
      },
      "outputs": [],
      "source": [
        "class SexismDataset(Dataset):\n",
        "    def __init__(self, texts, labels, ids, tokenizer, max_len=128, pad=\"max_length\", trunc=True,rt='pt', preprocess=False):\n",
        "        if preprocess:\n",
        "            self.texts = [clean_text(t) for t in texts]\n",
        "        else:\n",
        "            self.texts = texts.tolist()\n",
        "        self.labels = labels\n",
        "        self.ids = ids\n",
        "        self.tokenizer = tokenizer\n",
        "        self.max_len = max_len\n",
        "        self.pad = pad\n",
        "        self.trunc = trunc\n",
        "        self.rt = rt\n",
        "\n",
        "    def __len__(self):\n",
        "        return len(self.texts)\n",
        "\n",
        "    def __getitem__(self, idx):\n",
        "        text = str(self.texts[idx])\n",
        "        inputs = self.tokenizer.encode_plus(\n",
        "            text,\n",
        "            add_special_tokens=True,\n",
        "            max_length=self.max_len,padding=self.pad, truncation=self.trunc,\n",
        "            return_tensors=self.rt\n",
        "        )\n",
        "\n",
        "        return {\n",
        "            'input_ids': inputs['input_ids'].flatten(),\n",
        "            'attention_mask': inputs['attention_mask'].flatten(),\n",
        "            'labels': torch.tensor(self.labels[idx], dtype=torch.long),\n",
        "            'id': torch.tensor(self.ids[idx], dtype=torch.long)\n",
        "        }"
      ]
    },
    {
      "cell_type": "markdown",
      "metadata": {
        "id": "tI6FsQ46GNqC"
      },
      "source": [
        "### Metrics"
      ]
    },
    {
      "cell_type": "code",
      "execution_count": 7,
      "metadata": {
        "id": "S6vS9AKYGPBx"
      },
      "outputs": [],
      "source": [
        "def compute_metrics_1(pred):\n",
        "    labels = pred.label_ids\n",
        "    preds = pred.predictions.argmax(-1)\n",
        "    precision, recall, f1, _ = precision_recall_fscore_support(\n",
        "        labels, preds, average='binary', zero_division=0\n",
        "    )\n",
        "    acc = accuracy_score(labels, preds)\n",
        "    return {\n",
        "        'accuracy': acc,\n",
        "        'f1': f1,\n",
        "        'precision': precision,\n",
        "        'recall': recall\n",
        "    }\n",
        "\n",
        "def compute_metrics_2(pred):\n",
        "    labels = pred.label_ids\n",
        "    preds = pred.predictions.argmax(-1)\n",
        "    precision, recall, f1, _ = precision_recall_fscore_support(\n",
        "        labels, preds, average='macro', zero_division=0\n",
        "    )\n",
        "    acc = accuracy_score(labels, preds)\n",
        "    return {\n",
        "        'accuracy': acc,\n",
        "        'f1': f1,\n",
        "        'precision': precision,\n",
        "        'recall': recall\n",
        "    }"
      ]
    },
    {
      "cell_type": "markdown",
      "metadata": {
        "id": "wcML21DcGWB9"
      },
      "source": [
        "### Pipeline"
      ]
    },
    {
      "cell_type": "code",
      "execution_count": 8,
      "metadata": {
        "id": "bTNGVypJGXwn"
      },
      "outputs": [],
      "source": [
        "def sexism_classification_pipeline_task1(trainInfo, devInfo, testInfo=None, model_name='bert-base-uncased', nlabels=2, ptype=\"single_label_classification\", **args):\n",
        "    # Model and Tokenizer\n",
        "    labelEnc= LabelEncoder()\n",
        "    tokenizer = AutoTokenizer.from_pretrained(model_name)\n",
        "    model = AutoModelForSequenceClassification.from_pretrained(\n",
        "        model_name,\n",
        "        num_labels=nlabels,\n",
        "        problem_type=ptype\n",
        "    )\n",
        "\n",
        "    # Prepare datasets\n",
        "    train_dataset = SexismDataset(trainInfo[1], labelEnc.fit_transform(trainInfo[2]),[int(x) for x in trainInfo[0]], tokenizer, preprocess=False)\n",
        "    val_dataset = SexismDataset(devInfo[1], labelEnc.transform(devInfo[2]), [int(x) for x in devInfo[0]], tokenizer, preprocess=False)\n",
        "\n",
        "    # Training Arguments\n",
        "    training_args = TrainingArguments(\n",
        "        report_to=\"none\", # alt: \"wandb\", \"tensorboard\" \"comet_ml\" \"mlflow\" \"clearml\"\n",
        "        output_dir= args.get('output_dir', './results'),\n",
        "        num_train_epochs= args.get('num_train_epochs', 5),\n",
        "        learning_rate=args.get('learning_rate', 5e-5),\n",
        "        per_device_train_batch_size=args.get('per_device_train_batch_size', 16),\n",
        "        per_device_eval_batch_size=args.get('per_device_eval_batch_size', 64),\n",
        "        warmup_steps=args.get('warmup_steps', 500),\n",
        "        weight_decay=args.get('weight_decay',0.01),\n",
        "        logging_dir=args.get('logging_dir', './logs'),\n",
        "        logging_steps=args.get('logging_steps', 10),\n",
        "        eval_strategy=args.get('eval_strategy','epoch'),\n",
        "        save_strategy=args.get('save_strategy', \"epoch\"),\n",
        "        load_best_model_at_end=args.get('load_best_model_at_end', True),\n",
        "        metric_for_best_model=args.get('metric_for_best_model',\"f1\")\n",
        "    )\n",
        "\n",
        "    # Initialize Trainer\n",
        "    trainer = Trainer(\n",
        "        model=model,\n",
        "        args=training_args,\n",
        "        train_dataset=train_dataset,\n",
        "        eval_dataset=val_dataset,\n",
        "        compute_metrics=compute_metrics_1,\n",
        "        callbacks=[EarlyStoppingCallback(early_stopping_patience=args.get(\"early_stopping_patience\",3))]\n",
        "    )\n",
        "\n",
        "    # Fine-tune the model\n",
        "    trainer.train()\n",
        "\n",
        "    # Evaluate on validation set\n",
        "    eval_results = trainer.evaluate()\n",
        "    print(\"Validation Results:\", eval_results)\n",
        "\n",
        "    # If there is a test dataset\n",
        "    if testInfo is not None:\n",
        "        # Prepare test dataset for prediction\n",
        "        test_dataset = SexismDataset(testInfo[1], [0] * len(testInfo[1]),  [int(x) for x in testInfo[0]],   tokenizer)\n",
        "\n",
        "        # Predict test set labels\n",
        "        predictions = trainer.predict(test_dataset)\n",
        "        predicted_labels = np.argmax(predictions.predictions, axis=1)\n",
        "\n",
        "        # Create submission DataFrame\n",
        "        submission_df = pd.DataFrame({\n",
        "            'id': testInfo[0],\n",
        "            'label': labelEnc.inverse_transform(predicted_labels),\n",
        "            \"test_case\": [\"EXIST2025\"]*len(predicted_labels)\n",
        "        })\n",
        "        submission_df.to_csv('sexism_predictions_task1.csv', index=False)\n",
        "        print(\"Prediction for TASK 1 completed. Results saved to sexism_predictions_task1.csv\")\n",
        "        return model, submission_df\n",
        "    return model, eval_results\n"
      ]
    },
    {
      "cell_type": "markdown",
      "metadata": {
        "id": "2dp_oaw2Rxed"
      },
      "source": [
        "### Training and Evaluation"
      ]
    },
    {
      "cell_type": "code",
      "execution_count": 9,
      "metadata": {
        "colab": {
          "base_uri": "https://localhost:8080/",
          "height": 110
        },
        "collapsed": true,
        "id": "_qxgo8SqX-cV",
        "outputId": "a65ee470-ab56-408e-84d8-ba931cace0ee"
      },
      "outputs": [
        {
          "name": "stderr",
          "output_type": "stream",
          "text": [
            "Some weights of BertForSequenceClassification were not initialized from the model checkpoint at bert-base-uncased and are newly initialized: ['classifier.bias', 'classifier.weight']\n",
            "You should probably TRAIN this model on a down-stream task to be able to use it for predictions and inference.\n",
            "/Library/Frameworks/Python.framework/Versions/3.13/lib/python3.13/site-packages/torch/utils/data/dataloader.py:683: UserWarning: 'pin_memory' argument is set as true but not supported on MPS now, then device pinned memory won't be used.\n",
            "  warnings.warn(warn_msg)\n"
          ]
        },
        {
          "data": {
            "text/html": [
              "\n",
              "    <div>\n",
              "      \n",
              "      <progress value='900' max='900' style='width:300px; height:20px; vertical-align: middle;'></progress>\n",
              "      [900/900 11:09, Epoch 5/5]\n",
              "    </div>\n",
              "    <table border=\"1\" class=\"dataframe\">\n",
              "  <thead>\n",
              " <tr style=\"text-align: left;\">\n",
              "      <th>Epoch</th>\n",
              "      <th>Training Loss</th>\n",
              "      <th>Validation Loss</th>\n",
              "      <th>Accuracy</th>\n",
              "      <th>F1</th>\n",
              "      <th>Precision</th>\n",
              "      <th>Recall</th>\n",
              "    </tr>\n",
              "  </thead>\n",
              "  <tbody>\n",
              "    <tr>\n",
              "      <td>1</td>\n",
              "      <td>0.515000</td>\n",
              "      <td>0.441118</td>\n",
              "      <td>0.822072</td>\n",
              "      <td>0.796915</td>\n",
              "      <td>0.794872</td>\n",
              "      <td>0.798969</td>\n",
              "    </tr>\n",
              "    <tr>\n",
              "      <td>2</td>\n",
              "      <td>0.359800</td>\n",
              "      <td>0.478284</td>\n",
              "      <td>0.817568</td>\n",
              "      <td>0.769231</td>\n",
              "      <td>0.859873</td>\n",
              "      <td>0.695876</td>\n",
              "    </tr>\n",
              "    <tr>\n",
              "      <td>3</td>\n",
              "      <td>0.256500</td>\n",
              "      <td>0.388515</td>\n",
              "      <td>0.844595</td>\n",
              "      <td>0.830467</td>\n",
              "      <td>0.793427</td>\n",
              "      <td>0.871134</td>\n",
              "    </tr>\n",
              "    <tr>\n",
              "      <td>4</td>\n",
              "      <td>0.048100</td>\n",
              "      <td>0.667895</td>\n",
              "      <td>0.831081</td>\n",
              "      <td>0.794521</td>\n",
              "      <td>0.847953</td>\n",
              "      <td>0.747423</td>\n",
              "    </tr>\n",
              "    <tr>\n",
              "      <td>5</td>\n",
              "      <td>0.004700</td>\n",
              "      <td>0.692557</td>\n",
              "      <td>0.837838</td>\n",
              "      <td>0.807487</td>\n",
              "      <td>0.838889</td>\n",
              "      <td>0.778351</td>\n",
              "    </tr>\n",
              "  </tbody>\n",
              "</table><p>"
            ],
            "text/plain": [
              "<IPython.core.display.HTML object>"
            ]
          },
          "metadata": {},
          "output_type": "display_data"
        },
        {
          "name": "stderr",
          "output_type": "stream",
          "text": [
            "/Library/Frameworks/Python.framework/Versions/3.13/lib/python3.13/site-packages/torch/utils/data/dataloader.py:683: UserWarning: 'pin_memory' argument is set as true but not supported on MPS now, then device pinned memory won't be used.\n",
            "  warnings.warn(warn_msg)\n",
            "/Library/Frameworks/Python.framework/Versions/3.13/lib/python3.13/site-packages/torch/utils/data/dataloader.py:683: UserWarning: 'pin_memory' argument is set as true but not supported on MPS now, then device pinned memory won't be used.\n",
            "  warnings.warn(warn_msg)\n",
            "/Library/Frameworks/Python.framework/Versions/3.13/lib/python3.13/site-packages/torch/utils/data/dataloader.py:683: UserWarning: 'pin_memory' argument is set as true but not supported on MPS now, then device pinned memory won't be used.\n",
            "  warnings.warn(warn_msg)\n",
            "/Library/Frameworks/Python.framework/Versions/3.13/lib/python3.13/site-packages/torch/utils/data/dataloader.py:683: UserWarning: 'pin_memory' argument is set as true but not supported on MPS now, then device pinned memory won't be used.\n",
            "  warnings.warn(warn_msg)\n",
            "/Library/Frameworks/Python.framework/Versions/3.13/lib/python3.13/site-packages/torch/utils/data/dataloader.py:683: UserWarning: 'pin_memory' argument is set as true but not supported on MPS now, then device pinned memory won't be used.\n",
            "  warnings.warn(warn_msg)\n"
          ]
        },
        {
          "data": {
            "text/html": [],
            "text/plain": [
              "<IPython.core.display.HTML object>"
            ]
          },
          "metadata": {},
          "output_type": "display_data"
        },
        {
          "name": "stdout",
          "output_type": "stream",
          "text": [
            "Validation Results: {'eval_loss': 0.38851499557495117, 'eval_accuracy': 0.8445945945945946, 'eval_f1': 0.8304668304668305, 'eval_precision': 0.7934272300469484, 'eval_recall': 0.8711340206185567, 'eval_runtime': 5.4287, 'eval_samples_per_second': 81.788, 'eval_steps_per_second': 1.289, 'epoch': 5.0}\n"
          ]
        },
        {
          "name": "stderr",
          "output_type": "stream",
          "text": [
            "/Library/Frameworks/Python.framework/Versions/3.13/lib/python3.13/site-packages/torch/utils/data/dataloader.py:683: UserWarning: 'pin_memory' argument is set as true but not supported on MPS now, then device pinned memory won't be used.\n",
            "  warnings.warn(warn_msg)\n"
          ]
        },
        {
          "name": "stdout",
          "output_type": "stream",
          "text": [
            "Prediction for TASK 1 completed. Results saved to sexism_predictions_task1.csv\n"
          ]
        }
      ],
      "source": [
        "set_seed(23)\n",
        "\n",
        "model = \"bert-base-uncased\"\n",
        "\n",
        "params = {\n",
        "    \"num_train_epochs\": 5,\n",
        "    \"learning_rate\": 4e-05,\n",
        "    \"per_device_train_batch_size\": 16,\n",
        "    \"per_device_eval_batch_size\": 64,\n",
        "    \"weight_decay\": 0.03,\n",
        "    \"dropout\": 0.2,\n",
        "    \"early_stopping_patience\": 5,\n",
        "    \"output_dir\": \"./bert_results_task2\"\n",
        "}\n",
        "\n",
        "model, results = sexism_classification_pipeline_task1(\n",
        "    EnTrainTask1,\n",
        "    EnDevTask1,\n",
        "    EnTestTask1,\n",
        "    model_name=model,\n",
        "    nlabels=3,\n",
        "    ptype=\"single_label_classification\",\n",
        "    **params\n",
        ")\n"
      ]
    },
    {
      "cell_type": "markdown",
      "metadata": {},
      "source": [
        "Validation Results: {'eval_loss': 0.6463983058929443, 'eval_accuracy': 0.8536036036036037, 'eval_f1': 0.8284960422163589, 'eval_precision': 0.8486486486486486, 'eval_recall': 0.8092783505154639, 'eval_runtime': 6.0618, 'eval_samples_per_second': 73.245, 'eval_steps_per_second': 1.155, 'epoch': 5.0}"
      ]
    },
    {
      "cell_type": "code",
      "execution_count": 11,
      "metadata": {
        "id": "yc7ZAvPOH7f6"
      },
      "outputs": [
        {
          "data": {
            "text/html": [
              "<div>\n",
              "<style scoped>\n",
              "    .dataframe tbody tr th:only-of-type {\n",
              "        vertical-align: middle;\n",
              "    }\n",
              "\n",
              "    .dataframe tbody tr th {\n",
              "        vertical-align: top;\n",
              "    }\n",
              "\n",
              "    .dataframe thead th {\n",
              "        text-align: right;\n",
              "    }\n",
              "</style>\n",
              "<table border=\"1\" class=\"dataframe\">\n",
              "  <thead>\n",
              "    <tr style=\"text-align: right;\">\n",
              "      <th></th>\n",
              "      <th>id</th>\n",
              "      <th>label</th>\n",
              "      <th>test_case</th>\n",
              "    </tr>\n",
              "  </thead>\n",
              "  <tbody>\n",
              "    <tr>\n",
              "      <th>0</th>\n",
              "      <td>600001</td>\n",
              "      <td>YES</td>\n",
              "      <td>EXIST2025</td>\n",
              "    </tr>\n",
              "    <tr>\n",
              "      <th>1</th>\n",
              "      <td>600002</td>\n",
              "      <td>YES</td>\n",
              "      <td>EXIST2025</td>\n",
              "    </tr>\n",
              "    <tr>\n",
              "      <th>2</th>\n",
              "      <td>600003</td>\n",
              "      <td>YES</td>\n",
              "      <td>EXIST2025</td>\n",
              "    </tr>\n",
              "    <tr>\n",
              "      <th>3</th>\n",
              "      <td>600004</td>\n",
              "      <td>YES</td>\n",
              "      <td>EXIST2025</td>\n",
              "    </tr>\n",
              "    <tr>\n",
              "      <th>4</th>\n",
              "      <td>600005</td>\n",
              "      <td>YES</td>\n",
              "      <td>EXIST2025</td>\n",
              "    </tr>\n",
              "  </tbody>\n",
              "</table>\n",
              "</div>"
            ],
            "text/plain": [
              "       id label  test_case\n",
              "0  600001   YES  EXIST2025\n",
              "1  600002   YES  EXIST2025\n",
              "2  600003   YES  EXIST2025\n",
              "3  600004   YES  EXIST2025\n",
              "4  600005   YES  EXIST2025"
            ]
          },
          "execution_count": 11,
          "metadata": {},
          "output_type": "execute_result"
        }
      ],
      "source": [
        "results.head()"
      ]
    },
    {
      "cell_type": "markdown",
      "metadata": {},
      "source": [
        "### Save Model"
      ]
    },
    {
      "cell_type": "code",
      "execution_count": 12,
      "metadata": {},
      "outputs": [],
      "source": [
        "from transformers import AutoTokenizer\n",
        "\n",
        "model_name = \"bert-base-uncased\"  # or the model you actually used\n",
        "tokenizer = AutoTokenizer.from_pretrained(model_name)"
      ]
    },
    {
      "cell_type": "code",
      "execution_count": 13,
      "metadata": {},
      "outputs": [
        {
          "data": {
            "text/plain": [
              "('models/bert_sexism/tokenizer_config.json',\n",
              " 'models/bert_sexism/special_tokens_map.json',\n",
              " 'models/bert_sexism/vocab.txt',\n",
              " 'models/bert_sexism/added_tokens.json',\n",
              " 'models/bert_sexism/tokenizer.json')"
            ]
          },
          "execution_count": 13,
          "metadata": {},
          "output_type": "execute_result"
        }
      ],
      "source": [
        "model.save_pretrained(\"models/bert_sexism\")\n",
        "tokenizer.save_pretrained(\"models/bert_sexism\")"
      ]
    },
    {
      "cell_type": "markdown",
      "metadata": {},
      "source": [
        "### Save to json"
      ]
    },
    {
      "cell_type": "code",
      "execution_count": 14,
      "metadata": {},
      "outputs": [
        {
          "name": "stdout",
          "output_type": "stream",
          "text": [
            "Saved to bert_task1_submission.json ✅\n"
          ]
        }
      ],
      "source": [
        "import json\n",
        "\n",
        "# Load your CSV results\n",
        "df = pd.read_csv(\"sexism_predictions_task1.csv\")\n",
        "\n",
        "# Create a list of dictionaries in the required format\n",
        "results_json = []\n",
        "for _, row in df.iterrows():\n",
        "    result = {\n",
        "        \"id\": f\"{row['id']}\",  # add prefix 'id_' as required\n",
        "        \"value\": row[\"label\"],    # if you only have hard outputs (YES/NO)\n",
        "        \"test_case\": row[\"test_case\"]\n",
        "    }\n",
        "    results_json.append(result)\n",
        "\n",
        "# Save to JSON file\n",
        "with open(\"bert_task1_submission.json\", \"w\") as f:\n",
        "    json.dump(results_json, f, indent=2)\n",
        "\n",
        "print(\"Saved to bert_task1_submission.json ✅\")\n"
      ]
    },
    {
      "cell_type": "markdown",
      "metadata": {},
      "source": [
        "### Spanish"
      ]
    },
    {
      "cell_type": "code",
      "execution_count": 15,
      "metadata": {},
      "outputs": [],
      "source": [
        "def sexism_classification_pipeline_task1_Spanish(trainInfo, devInfo, testInfo=None, model_name=\"dccuchile/bert-base-spanish-wwm-cased\", nlabels=2, ptype=\"single_label_classification\", **args):\n",
        "    # Model and Tokenizer\n",
        "    labelEnc= LabelEncoder()\n",
        "    tokenizer = AutoTokenizer.from_pretrained(model_name)\n",
        "    model = AutoModelForSequenceClassification.from_pretrained(\n",
        "        model_name,\n",
        "        num_labels=nlabels,\n",
        "        problem_type=ptype\n",
        "    )\n",
        "\n",
        "    # Prepare datasets\n",
        "    train_dataset = SexismDataset(trainInfo[1], labelEnc.fit_transform(trainInfo[2]),[int(x) for x in trainInfo[0]], tokenizer, preprocess=False)\n",
        "    val_dataset = SexismDataset(devInfo[1], labelEnc.transform(devInfo[2]), [int(x) for x in devInfo[0]], tokenizer, preprocess=False)\n",
        "\n",
        "    # Training Arguments\n",
        "    training_args = TrainingArguments(\n",
        "        report_to=\"none\", # alt: \"wandb\", \"tensorboard\" \"comet_ml\" \"mlflow\" \"clearml\"\n",
        "        output_dir= args.get('output_dir', './results'),\n",
        "        num_train_epochs= args.get('num_train_epochs', 5),\n",
        "        learning_rate=args.get('learning_rate', 5e-5),\n",
        "        per_device_train_batch_size=args.get('per_device_train_batch_size', 16),\n",
        "        per_device_eval_batch_size=args.get('per_device_eval_batch_size', 64),\n",
        "        warmup_steps=args.get('warmup_steps', 500),\n",
        "        weight_decay=args.get('weight_decay',0.01),\n",
        "        logging_dir=args.get('logging_dir', './logs'),\n",
        "        logging_steps=args.get('logging_steps', 10),\n",
        "        eval_strategy=args.get('eval_strategy','epoch'),\n",
        "        save_strategy=args.get('save_strategy', \"epoch\"),\n",
        "        load_best_model_at_end=args.get('load_best_model_at_end', True),\n",
        "        metric_for_best_model=args.get('metric_for_best_model',\"f1\")\n",
        "    )\n",
        "\n",
        "    # Initialize Trainer\n",
        "    trainer = Trainer(\n",
        "        model=model,\n",
        "        args=training_args,\n",
        "        train_dataset=train_dataset,\n",
        "        eval_dataset=val_dataset,\n",
        "        compute_metrics=compute_metrics_1,\n",
        "        callbacks=[EarlyStoppingCallback(early_stopping_patience=args.get(\"early_stopping_patience\",3))]\n",
        "    )\n",
        "\n",
        "    # Fine-tune the model\n",
        "    trainer.train()\n",
        "\n",
        "    # Evaluate on validation set\n",
        "    eval_results = trainer.evaluate()\n",
        "    print(\"Validation Results:\", eval_results)\n",
        "\n",
        "    # If there is a test dataset\n",
        "    if testInfo is not None:\n",
        "        # Prepare test dataset for prediction\n",
        "        test_dataset = SexismDataset(testInfo[1], [0] * len(testInfo[1]),  [int(x) for x in testInfo[0]],   tokenizer)\n",
        "\n",
        "        # Predict test set labels\n",
        "        predictions = trainer.predict(test_dataset)\n",
        "        predicted_labels = np.argmax(predictions.predictions, axis=1)\n",
        "\n",
        "        # Create submission DataFrame\n",
        "        submission_df = pd.DataFrame({\n",
        "            'id': testInfo[0],\n",
        "            'label': labelEnc.inverse_transform(predicted_labels),\n",
        "            \"test_case\": [\"EXIST2025\"]*len(predicted_labels)\n",
        "        })\n",
        "        submission_df.to_csv('sexism_predictions_task1_Spanish.csv', index=False)\n",
        "        print(\"Prediction for TASK 1 completed. Results saved to sexism_predictions_task1_Spanish.csv\")\n",
        "        return model, submission_df\n",
        "    return model, eval_results\n"
      ]
    },
    {
      "cell_type": "markdown",
      "metadata": {},
      "source": [
        "### Model"
      ]
    },
    {
      "cell_type": "code",
      "execution_count": 16,
      "metadata": {},
      "outputs": [
        {
          "name": "stderr",
          "output_type": "stream",
          "text": [
            "Some weights of BertForSequenceClassification were not initialized from the model checkpoint at dccuchile/bert-base-spanish-wwm-cased and are newly initialized: ['bert.pooler.dense.bias', 'bert.pooler.dense.weight', 'classifier.bias', 'classifier.weight']\n",
            "You should probably TRAIN this model on a down-stream task to be able to use it for predictions and inference.\n",
            "/Library/Frameworks/Python.framework/Versions/3.13/lib/python3.13/site-packages/torch/utils/data/dataloader.py:683: UserWarning: 'pin_memory' argument is set as true but not supported on MPS now, then device pinned memory won't be used.\n",
            "  warnings.warn(warn_msg)\n"
          ]
        },
        {
          "data": {
            "text/html": [
              "\n",
              "    <div>\n",
              "      \n",
              "      <progress value='1000' max='1000' style='width:300px; height:20px; vertical-align: middle;'></progress>\n",
              "      [1000/1000 12:52, Epoch 5/5]\n",
              "    </div>\n",
              "    <table border=\"1\" class=\"dataframe\">\n",
              "  <thead>\n",
              " <tr style=\"text-align: left;\">\n",
              "      <th>Epoch</th>\n",
              "      <th>Training Loss</th>\n",
              "      <th>Validation Loss</th>\n",
              "      <th>Accuracy</th>\n",
              "      <th>F1</th>\n",
              "      <th>Precision</th>\n",
              "      <th>Recall</th>\n",
              "    </tr>\n",
              "  </thead>\n",
              "  <tbody>\n",
              "    <tr>\n",
              "      <td>1</td>\n",
              "      <td>0.421700</td>\n",
              "      <td>0.453544</td>\n",
              "      <td>0.789796</td>\n",
              "      <td>0.820244</td>\n",
              "      <td>0.753205</td>\n",
              "      <td>0.900383</td>\n",
              "    </tr>\n",
              "    <tr>\n",
              "      <td>2</td>\n",
              "      <td>0.350400</td>\n",
              "      <td>0.388428</td>\n",
              "      <td>0.820408</td>\n",
              "      <td>0.829457</td>\n",
              "      <td>0.839216</td>\n",
              "      <td>0.819923</td>\n",
              "    </tr>\n",
              "    <tr>\n",
              "      <td>3</td>\n",
              "      <td>0.365300</td>\n",
              "      <td>0.474859</td>\n",
              "      <td>0.808163</td>\n",
              "      <td>0.819923</td>\n",
              "      <td>0.819923</td>\n",
              "      <td>0.819923</td>\n",
              "    </tr>\n",
              "    <tr>\n",
              "      <td>4</td>\n",
              "      <td>0.091000</td>\n",
              "      <td>0.930702</td>\n",
              "      <td>0.808163</td>\n",
              "      <td>0.809717</td>\n",
              "      <td>0.858369</td>\n",
              "      <td>0.766284</td>\n",
              "    </tr>\n",
              "    <tr>\n",
              "      <td>5</td>\n",
              "      <td>0.042100</td>\n",
              "      <td>1.089498</td>\n",
              "      <td>0.812245</td>\n",
              "      <td>0.821012</td>\n",
              "      <td>0.833992</td>\n",
              "      <td>0.808429</td>\n",
              "    </tr>\n",
              "  </tbody>\n",
              "</table><p>"
            ],
            "text/plain": [
              "<IPython.core.display.HTML object>"
            ]
          },
          "metadata": {},
          "output_type": "display_data"
        },
        {
          "name": "stderr",
          "output_type": "stream",
          "text": [
            "/Library/Frameworks/Python.framework/Versions/3.13/lib/python3.13/site-packages/torch/utils/data/dataloader.py:683: UserWarning: 'pin_memory' argument is set as true but not supported on MPS now, then device pinned memory won't be used.\n",
            "  warnings.warn(warn_msg)\n",
            "/Library/Frameworks/Python.framework/Versions/3.13/lib/python3.13/site-packages/torch/utils/data/dataloader.py:683: UserWarning: 'pin_memory' argument is set as true but not supported on MPS now, then device pinned memory won't be used.\n",
            "  warnings.warn(warn_msg)\n",
            "/Library/Frameworks/Python.framework/Versions/3.13/lib/python3.13/site-packages/torch/utils/data/dataloader.py:683: UserWarning: 'pin_memory' argument is set as true but not supported on MPS now, then device pinned memory won't be used.\n",
            "  warnings.warn(warn_msg)\n",
            "/Library/Frameworks/Python.framework/Versions/3.13/lib/python3.13/site-packages/torch/utils/data/dataloader.py:683: UserWarning: 'pin_memory' argument is set as true but not supported on MPS now, then device pinned memory won't be used.\n",
            "  warnings.warn(warn_msg)\n",
            "/Library/Frameworks/Python.framework/Versions/3.13/lib/python3.13/site-packages/torch/utils/data/dataloader.py:683: UserWarning: 'pin_memory' argument is set as true but not supported on MPS now, then device pinned memory won't be used.\n",
            "  warnings.warn(warn_msg)\n"
          ]
        },
        {
          "data": {
            "text/html": [],
            "text/plain": [
              "<IPython.core.display.HTML object>"
            ]
          },
          "metadata": {},
          "output_type": "display_data"
        },
        {
          "name": "stdout",
          "output_type": "stream",
          "text": [
            "Validation Results: {'eval_loss': 0.38842788338661194, 'eval_accuracy': 0.8204081632653061, 'eval_f1': 0.8294573643410853, 'eval_precision': 0.8392156862745098, 'eval_recall': 0.8199233716475096, 'eval_runtime': 6.5595, 'eval_samples_per_second': 74.701, 'eval_steps_per_second': 1.22, 'epoch': 5.0}\n"
          ]
        },
        {
          "name": "stderr",
          "output_type": "stream",
          "text": [
            "/Library/Frameworks/Python.framework/Versions/3.13/lib/python3.13/site-packages/torch/utils/data/dataloader.py:683: UserWarning: 'pin_memory' argument is set as true but not supported on MPS now, then device pinned memory won't be used.\n",
            "  warnings.warn(warn_msg)\n"
          ]
        },
        {
          "name": "stdout",
          "output_type": "stream",
          "text": [
            "Prediction for TASK 1 completed. Results saved to sexism_predictions_task1_Spanish.csv\n"
          ]
        }
      ],
      "source": [
        "set_seed(23)\n",
        "\n",
        "model = \"dccuchile/bert-base-spanish-wwm-cased\"\n",
        "\n",
        "\n",
        "params = {\n",
        "    \"num_train_epochs\": 5,\n",
        "    \"learning_rate\": 4e-05,\n",
        "    \"per_device_train_batch_size\": 16,\n",
        "    \"per_device_eval_batch_size\": 64,\n",
        "    \"weight_decay\": 0.03,\n",
        "    \"dropout\": 0.2,\n",
        "    \"early_stopping_patience\": 5,\n",
        "    \"output_dir\": \"./bert_results\"\n",
        "}\n",
        "\n",
        "model, results = sexism_classification_pipeline_task1_Spanish(\n",
        "    SpTrainTask1,\n",
        "    SpDevTask1,\n",
        "    SpTestTask1,\n",
        "    model_name=model,\n",
        "    nlabels=2,\n",
        "    ptype=\"single_label_classification\",\n",
        "    **params\n",
        ")\n"
      ]
    },
    {
      "cell_type": "markdown",
      "metadata": {},
      "source": [
        "Validation Results: {'eval_loss': 0.38774237036705017, 'eval_accuracy': 0.826530612244898, 'eval_f1': 0.834307992202729, 'eval_precision': 0.8492063492063492, 'eval_recall': 0.8199233716475096, 'eval_runtime': 7.1635, 'eval_samples_per_second': 68.402, 'eval_steps_per_second': 1.117, 'epoch': 5.0}"
      ]
    },
    {
      "cell_type": "markdown",
      "metadata": {},
      "source": [
        "### Save Model"
      ]
    },
    {
      "cell_type": "code",
      "execution_count": 17,
      "metadata": {},
      "outputs": [],
      "source": [
        "from transformers import AutoTokenizer\n",
        "\n",
        "model_name = \"dccuchile/bert-base-spanish-wwm-cased\"  # or the model you actually used\n",
        "tokenizer = AutoTokenizer.from_pretrained(model_name)"
      ]
    },
    {
      "cell_type": "markdown",
      "metadata": {},
      "source": [
        "### Save to json"
      ]
    },
    {
      "cell_type": "code",
      "execution_count": 18,
      "metadata": {},
      "outputs": [
        {
          "name": "stdout",
          "output_type": "stream",
          "text": [
            "Saved to bert_task1_submission_Spanish.json ✅\n"
          ]
        }
      ],
      "source": [
        "import json\n",
        "\n",
        "# Load your CSV results\n",
        "df = pd.read_csv(\"sexism_predictions_task1_Spanish.csv\")\n",
        "\n",
        "# Create a list of dictionaries in the required format\n",
        "results_json = []\n",
        "for _, row in df.iterrows():\n",
        "    result = {\n",
        "        \"id\": f\"{row['id']}\",  # add prefix 'id_' as required\n",
        "        \"value\": row[\"label\"],    # if you only have hard outputs (YES/NO)\n",
        "        \"test_case\": row[\"test_case\"]\n",
        "    }\n",
        "    results_json.append(result)\n",
        "\n",
        "# Save to JSON file\n",
        "with open(\"bert_task1_submission_Spanish.json\", \"w\") as f:\n",
        "    json.dump(results_json, f, indent=2)\n",
        "\n",
        "print(\"Saved to bert_task1_submission_Spanish.json ✅\")\n"
      ]
    },
    {
      "cell_type": "markdown",
      "metadata": {},
      "source": [
        "### File Merge"
      ]
    },
    {
      "cell_type": "code",
      "execution_count": 19,
      "metadata": {},
      "outputs": [
        {
          "name": "stdout",
          "output_type": "stream",
          "text": [
            "Merged 978 EN + 1098 ES = 2076 total predictions.\n"
          ]
        }
      ],
      "source": [
        "filename_english = \"bert_task1_submission.json\"\n",
        "filename_spanish = \"bert_task1_submission_Spanish.json\"\n",
        "filename_merged = \"bert_task1_submission_merge.json\"\n",
        "\n",
        "def merge_predictions(filename_english, filename_spanish, filename_merged):\n",
        "    # Load English predictions\n",
        "    with open(filename_english, \"r\", encoding=\"utf-8\") as f_en:\n",
        "        preds_en = json.load(f_en)\n",
        "\n",
        "    # Load Spanish predictions\n",
        "    with open(filename_spanish, \"r\", encoding=\"utf-8\") as f_es:\n",
        "        preds_es = json.load(f_es)\n",
        "\n",
        "    # Merge the two lists\n",
        "    merged_preds = preds_es + preds_en\n",
        "\n",
        "    # Save the combined predictions\n",
        "    with open(filename_merged, \"w\", encoding=\"utf-8\") as f_out:\n",
        "        json.dump(merged_preds, f_out, ensure_ascii=False, indent=2)\n",
        "\n",
        "    print(f\"Merged {len(preds_en)} EN + {len(preds_es)} ES = {len(merged_preds)} total predictions.\")\n",
        "    \n",
        "    \n",
        "merge_predictions(\n",
        "    filename_english,\n",
        "    filename_spanish,\n",
        "    filename_merged\n",
        ")"
      ]
    }
  ],
  "metadata": {
    "colab": {
      "provenance": []
    },
    "kernelspec": {
      "display_name": "Python 3",
      "name": "python3"
    },
    "language_info": {
      "codemirror_mode": {
        "name": "ipython",
        "version": 3
      },
      "file_extension": ".py",
      "mimetype": "text/x-python",
      "name": "python",
      "nbconvert_exporter": "python",
      "pygments_lexer": "ipython3",
      "version": "3.13.3"
    }
  },
  "nbformat": 4,
  "nbformat_minor": 0
}
