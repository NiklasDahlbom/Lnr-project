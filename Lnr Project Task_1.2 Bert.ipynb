{
  "cells": [
    {
      "cell_type": "markdown",
      "metadata": {
        "id": "nRaFjNBjkWLP"
      },
      "source": [
        "### Lnr Project Task 1.2 Bert\n",
        "\n",
        "Niklas Dahlbom, ndahlbom@kth.se, ndahlbo@upv.edu.es"
      ]
    },
    {
      "cell_type": "markdown",
      "metadata": {
        "id": "7d1Owhk0xnFc"
      },
      "source": [
        "### Imports"
      ]
    },
    {
      "cell_type": "code",
      "execution_count": 138,
      "metadata": {
        "colab": {
          "base_uri": "https://localhost:8080/",
          "height": 35
        },
        "id": "bCiZ3-fmlStK",
        "outputId": "4821ec09-4f65-443e-aae9-212fa7dd7fcd"
      },
      "outputs": [],
      "source": [
        "import pandas as pd\n",
        "from readerEXIST2025 import EXISTReader\n",
        "import torch\n",
        "from torch.utils.data import Dataset, DataLoader\n",
        "import numpy as np\n",
        "import os\n",
        "import re\n",
        "import random\n",
        "from sklearn.metrics import accuracy_score, precision_recall_fscore_support\n",
        "from sklearn.preprocessing import LabelEncoder\n",
        "from transformers import AutoTokenizer, AutoConfig, AutoModelForSequenceClassification, Trainer, TrainingArguments, EarlyStoppingCallback\n",
        "import json"
      ]
    },
    {
      "cell_type": "markdown",
      "metadata": {
        "id": "T8a0qOw1yX9G"
      },
      "source": [
        "### Read datasets"
      ]
    },
    {
      "cell_type": "code",
      "execution_count": 139,
      "metadata": {
        "colab": {
          "base_uri": "https://localhost:8080/"
        },
        "id": "ZQB83Hpvlzco",
        "outputId": "20049016-dd14-4aac-9181-2cf6bd58d78f"
      },
      "outputs": [
        {
          "name": "stdout",
          "output_type": "stream",
          "text": [
            "(Series([], Name: id, dtype: object), Series([], Name: text, dtype: object), Series([], Name: label2, dtype: object))\n",
            "-------------------\n"
          ]
        }
      ],
      "source": [
        "reader_train = EXISTReader(\"/Users/niklasdahlbom/Documents/Valencia/Lnr/Project/EXIST 2025 Tweets Dataset/training/EXIST2025_training.json\")\n",
        "reader_dev = EXISTReader(\"/Users/niklasdahlbom/Documents/Valencia/Lnr/Project/EXIST 2025 Tweets Dataset/dev/EXIST2025_dev.json\")\n",
        "reader_test = EXISTReader(\"/Users/niklasdahlbom/Documents/Valencia/Lnr/Project/EXIST 2025 Tweets Dataset/test/EXIST2025_test_clean.json\")\n",
        "\n",
        "EnTrainTask2, EnDevTask2 = reader_train.get(lang=\"EN\", subtask=\"2\"), reader_dev.get(lang=\"EN\", subtask=\"2\")\n",
        "SpTrainTask2, SpDevTask2 = reader_train.get(lang=\"ES\", subtask=\"2\"), reader_dev.get(lang=\"ES\", subtask=\"2\")\n",
        "\n",
        "SpTestTask2, EnTestTask2 = reader_test.get(lang=\"ES\", subtask=\"2\", include_ambiguous=True),  reader_test.get(lang=\"EN\", subtask=\"2\", include_ambiguous=True)\n",
        "\n",
        "print(EnTestTask2)\n",
        "print(\"-------------------\")"
      ]
    },
    {
      "cell_type": "markdown",
      "metadata": {
        "id": "TwpywTpSytMt"
      },
      "source": [
        "### Preprocessing"
      ]
    },
    {
      "cell_type": "code",
      "execution_count": 140,
      "metadata": {
        "id": "zJ6VoJw4yu4_"
      },
      "outputs": [],
      "source": [
        "def clean_text(text_list):\n",
        "    cleaned_corpus = []\n",
        "    for text in text_list:\n",
        "        text = text.lower()\n",
        "        text = re.sub(r\"https?://\\S+\", \"\", text)  # Removes URLs\n",
        "        text = re.sub(r\"@\\w+\", \"\", text)          # Removes mentions\n",
        "        text = text.replace(\"#\", \"\")              # Removes Hashtags\n",
        "        text = re.sub(r\"\\s+\", \" \", text).strip()   # Removes spaces\n",
        "        cleaned_corpus.append(text)\n",
        "    return cleaned_corpus"
      ]
    },
    {
      "cell_type": "markdown",
      "metadata": {
        "id": "Cc7lGppHF70r"
      },
      "source": [
        "### Set Seed"
      ]
    },
    {
      "cell_type": "code",
      "execution_count": 141,
      "metadata": {
        "id": "TFRtdrUvF9hd"
      },
      "outputs": [],
      "source": [
        "def set_seed(seed=2025):\n",
        "    # Random seed\n",
        "    random.seed(seed)\n",
        "    # Numpy seed\n",
        "    np.random.seed(seed)\n",
        "    # Torch seed\n",
        "    torch.manual_seed(seed)\n",
        "    torch.cuda.manual_seed(seed)\n",
        "    torch.backends.cudnn.deterministic = True\n",
        "    torch.backends.cudnn.benchmark = True\n",
        "    # os seed\n",
        "    os.environ['PYTHONHASHSEED'] = str(seed)\n"
      ]
    },
    {
      "cell_type": "markdown",
      "metadata": {
        "id": "8OAQLYdJGHk2"
      },
      "source": [
        "### Dataset class"
      ]
    },
    {
      "cell_type": "code",
      "execution_count": 142,
      "metadata": {
        "id": "BZFLQcLtGLEJ"
      },
      "outputs": [],
      "source": [
        "class SexismDataset(Dataset):\n",
        "    def __init__(self, texts, labels, ids, tokenizer, max_len=128, pad=\"max_length\", trunc=True, rt='pt', preprocess=False):\n",
        "        if preprocess:\n",
        "            self.texts = [clean_text(t) for t in texts]\n",
        "        else:\n",
        "            # Fix: Only call tolist() if needed\n",
        "            self.texts = texts.tolist() if hasattr(texts, 'tolist') else texts\n",
        "\n",
        "        self.labels = labels\n",
        "        self.ids = ids\n",
        "        self.tokenizer = tokenizer\n",
        "        self.max_len = max_len\n",
        "        self.pad = pad\n",
        "        self.trunc = trunc\n",
        "        self.rt = rt\n",
        "\n",
        "    def __len__(self):\n",
        "        return len(self.texts)\n",
        "\n",
        "    def __getitem__(self, idx):\n",
        "        text = str(self.texts[idx])\n",
        "        inputs = self.tokenizer.encode_plus(\n",
        "            text,\n",
        "            add_special_tokens=True,\n",
        "            max_length=self.max_len,\n",
        "            padding=self.pad,\n",
        "            truncation=self.trunc,\n",
        "            return_tensors=self.rt\n",
        "        )\n",
        "\n",
        "        item = {\n",
        "            'input_ids': inputs['input_ids'].flatten(),\n",
        "            'attention_mask': inputs['attention_mask'].flatten(),\n",
        "            # Option 1:\n",
        "            'id': torch.tensor(int(self.ids[idx]), dtype=torch.long)\n",
        "            # Option 2 (if IDs are not numeric or not needed as tensors):\n",
        "            # 'id': self.ids[idx]\n",
        "        }\n",
        "\n",
        "        if self.labels is not None:\n",
        "            item['labels'] = torch.tensor(self.labels[idx], dtype=torch.long)\n",
        "\n",
        "        return item\n"
      ]
    },
    {
      "cell_type": "markdown",
      "metadata": {
        "id": "tI6FsQ46GNqC"
      },
      "source": [
        "### Metrics"
      ]
    },
    {
      "cell_type": "code",
      "execution_count": 143,
      "metadata": {
        "id": "S6vS9AKYGPBx"
      },
      "outputs": [],
      "source": [
        "def compute_metrics_1(pred):\n",
        "    labels = pred.label_ids\n",
        "    preds = pred.predictions.argmax(-1)\n",
        "    precision, recall, f1, _ = precision_recall_fscore_support(\n",
        "        labels, preds, average='binary', zero_division=0\n",
        "    )\n",
        "    acc = accuracy_score(labels, preds)\n",
        "    return {\n",
        "        'accuracy': acc,\n",
        "        'f1': f1,\n",
        "        'precision': precision,\n",
        "        'recall': recall\n",
        "    }\n",
        "\n",
        "def compute_metrics_2(pred):\n",
        "    labels = pred.label_ids\n",
        "    preds = pred.predictions.argmax(-1)\n",
        "    precision, recall, f1, _ = precision_recall_fscore_support(\n",
        "        labels, preds, average='macro', zero_division=0\n",
        "    )\n",
        "    acc = accuracy_score(labels, preds)\n",
        "    return {\n",
        "        'accuracy': acc,\n",
        "        'f1': f1,\n",
        "        'precision': precision,\n",
        "        'recall': recall\n",
        "    }"
      ]
    },
    {
      "cell_type": "markdown",
      "metadata": {
        "id": "wcML21DcGWB9"
      },
      "source": [
        "### Pipeline"
      ]
    },
    {
      "cell_type": "code",
      "execution_count": 144,
      "metadata": {
        "id": "bTNGVypJGXwn"
      },
      "outputs": [],
      "source": [
        "def sexism_classification_pipeline_task2(\n",
        "    trainInfo,\n",
        "    devInfo,\n",
        "    testInfo=None,\n",
        "    model_name='bert-base-uncased',\n",
        "    nlabels=3,\n",
        "    ptype=\"single_label_classification\",\n",
        "    dropout=0.1,  # Lägg till dropout här\n",
        "    **args\n",
        "):\n",
        "    # Model and Tokenizer\n",
        "    labelEnc = LabelEncoder()\n",
        "    tokenizer = AutoTokenizer.from_pretrained(model_name)\n",
        "\n",
        "    # Modify the model configuration to include dropout\n",
        "    config = AutoConfig.from_pretrained(\n",
        "        model_name,\n",
        "        num_labels=nlabels,\n",
        "        problem_type=ptype,\n",
        "        ignore_mismatched_sizes=True,\n",
        "        hidden_dropout_prob=dropout,  # Dropout för de dolda lagren\n",
        "        attention_probs_dropout_prob=dropout,  # Dropout för attention\n",
        "    )\n",
        "\n",
        "    # Load the model with the modified config\n",
        "    model = AutoModelForSequenceClassification.from_pretrained(model_name, config=config)\n",
        "\n",
        "    # Prepare datasets\n",
        "    train_dataset = SexismDataset(\n",
        "        trainInfo[1],\n",
        "        labelEnc.fit_transform(trainInfo[2]),\n",
        "        [int(x) for x in trainInfo[0]],\n",
        "        tokenizer\n",
        "    )\n",
        "    val_dataset = SexismDataset(\n",
        "        devInfo[1],\n",
        "        labelEnc.transform(devInfo[2]),\n",
        "        [int(x) for x in devInfo[0]],\n",
        "        tokenizer\n",
        "    )\n",
        "\n",
        "    # Training Arguments\n",
        "    training_args = TrainingArguments(\n",
        "        report_to=\"none\", # alt: \"wandb\", \"tensorboard\" \"comet_ml\" \"mlflow\" \"clearml\"\n",
        "        output_dir=args.get('output_dir', './results'),\n",
        "        num_train_epochs=args.get('num_train_epochs', 5),\n",
        "        learning_rate=args.get('learning_rate', 5e-5),\n",
        "        per_device_train_batch_size=args.get('per_device_train_batch_size', 16),\n",
        "        per_device_eval_batch_size=args.get('per_device_eval_batch_size', 64),\n",
        "        warmup_steps=args.get('warmup_steps', 500),\n",
        "        weight_decay=args.get('weight_decay', 0.01),\n",
        "        logging_dir=args.get('logging_dir', './logs'),\n",
        "        logging_steps=args.get('logging_steps', 10),\n",
        "        eval_strategy=args.get('eval_strategy', 'epoch'),\n",
        "        save_strategy=args.get('save_strategy', \"epoch\"),\n",
        "        save_total_limit=args.get('save_total_limit', 1),\n",
        "        load_best_model_at_end=args.get('load_best_model_at_end', True),\n",
        "        metric_for_best_model=args.get('metric_for_best_model', \"f1\")\n",
        "    )\n",
        "\n",
        "    # Initialize Trainer\n",
        "    trainer = Trainer(\n",
        "        model=model,\n",
        "        args=training_args,\n",
        "        train_dataset=train_dataset,\n",
        "        eval_dataset=val_dataset,\n",
        "        compute_metrics=compute_metrics_2,  # Se till att denna funktion är korrekt definierad\n",
        "        callbacks=[EarlyStoppingCallback(early_stopping_patience=args.get(\"early_stopping_patience\", 5))]\n",
        "    )\n",
        "\n",
        "    # Fine-tune the model\n",
        "    trainer.train()\n",
        "\n",
        "    # Evaluate on validation set\n",
        "    eval_results = trainer.evaluate()\n",
        "    print(\"Validation Results:\", eval_results)\n",
        "\n",
        "    # If there is a test dataset\n",
        "    if testInfo is not None:\n",
        "        # Prepare test dataset for prediction\n",
        "        test_dataset = SexismDataset(\n",
        "            testInfo[1],\n",
        "            [0] * len(testInfo[1]),\n",
        "            [int(x) for x in testInfo[0]],\n",
        "            tokenizer\n",
        "        )\n",
        "\n",
        "        # Predict test set labels\n",
        "        predictions = trainer.predict(test_dataset)\n",
        "        predicted_labels = np.argmax(predictions.predictions, axis=1)\n",
        "\n",
        "        # Create submission DataFrame\n",
        "        submission_df = pd.DataFrame({\n",
        "            'id': testInfo[0],\n",
        "            'label': labelEnc.inverse_transform(predicted_labels),\n",
        "            \"test_case\": [\"EXIST2025\"] * len(predicted_labels)\n",
        "        })\n",
        "\n",
        "        submission_df.to_csv('sexism_predictions_task2.csv', index=False)\n",
        "        print(\"Prediction TASK2 completed. Results saved to sexism_predictions_task2.csv\")\n",
        "        return model, submission_df\n",
        "\n",
        "    return model, eval_results\n"
      ]
    },
    {
      "cell_type": "markdown",
      "metadata": {
        "id": "2dp_oaw2Rxed"
      },
      "source": [
        "### Training and Evaluation"
      ]
    },
    {
      "cell_type": "code",
      "execution_count": 145,
      "metadata": {},
      "outputs": [],
      "source": [
        "set_seed(23)"
      ]
    },
    {
      "cell_type": "code",
      "execution_count": 146,
      "metadata": {
        "colab": {
          "base_uri": "https://localhost:8080/",
          "height": 110
        },
        "collapsed": true,
        "id": "_qxgo8SqX-cV",
        "outputId": "a65ee470-ab56-408e-84d8-ba931cace0ee"
      },
      "outputs": [
        {
          "name": "stderr",
          "output_type": "stream",
          "text": [
            "Some weights of BertForSequenceClassification were not initialized from the model checkpoint at bert-base-uncased and are newly initialized: ['classifier.bias', 'classifier.weight']\n",
            "You should probably TRAIN this model on a down-stream task to be able to use it for predictions and inference.\n",
            "/Library/Frameworks/Python.framework/Versions/3.13/lib/python3.13/site-packages/torch/utils/data/dataloader.py:683: UserWarning: 'pin_memory' argument is set as true but not supported on MPS now, then device pinned memory won't be used.\n",
            "  warnings.warn(warn_msg)\n"
          ]
        },
        {
          "data": {
            "text/html": [
              "\n",
              "    <div>\n",
              "      \n",
              "      <progress value='270' max='270' style='width:300px; height:20px; vertical-align: middle;'></progress>\n",
              "      [270/270 03:21, Epoch 5/5]\n",
              "    </div>\n",
              "    <table border=\"1\" class=\"dataframe\">\n",
              "  <thead>\n",
              " <tr style=\"text-align: left;\">\n",
              "      <th>Epoch</th>\n",
              "      <th>Training Loss</th>\n",
              "      <th>Validation Loss</th>\n",
              "      <th>Accuracy</th>\n",
              "      <th>F1</th>\n",
              "      <th>Precision</th>\n",
              "      <th>Recall</th>\n",
              "    </tr>\n",
              "  </thead>\n",
              "  <tbody>\n",
              "    <tr>\n",
              "      <td>1</td>\n",
              "      <td>1.020100</td>\n",
              "      <td>0.983787</td>\n",
              "      <td>0.582192</td>\n",
              "      <td>0.245310</td>\n",
              "      <td>0.194064</td>\n",
              "      <td>0.333333</td>\n",
              "    </tr>\n",
              "    <tr>\n",
              "      <td>2</td>\n",
              "      <td>0.917700</td>\n",
              "      <td>0.927492</td>\n",
              "      <td>0.582192</td>\n",
              "      <td>0.245310</td>\n",
              "      <td>0.194064</td>\n",
              "      <td>0.333333</td>\n",
              "    </tr>\n",
              "    <tr>\n",
              "      <td>3</td>\n",
              "      <td>0.848500</td>\n",
              "      <td>0.867599</td>\n",
              "      <td>0.609589</td>\n",
              "      <td>0.359003</td>\n",
              "      <td>0.366165</td>\n",
              "      <td>0.398455</td>\n",
              "    </tr>\n",
              "    <tr>\n",
              "      <td>4</td>\n",
              "      <td>0.731300</td>\n",
              "      <td>0.847163</td>\n",
              "      <td>0.589041</td>\n",
              "      <td>0.482475</td>\n",
              "      <td>0.578398</td>\n",
              "      <td>0.517494</td>\n",
              "    </tr>\n",
              "    <tr>\n",
              "      <td>5</td>\n",
              "      <td>0.575800</td>\n",
              "      <td>0.768077</td>\n",
              "      <td>0.678082</td>\n",
              "      <td>0.575305</td>\n",
              "      <td>0.602517</td>\n",
              "      <td>0.564366</td>\n",
              "    </tr>\n",
              "  </tbody>\n",
              "</table><p>"
            ],
            "text/plain": [
              "<IPython.core.display.HTML object>"
            ]
          },
          "metadata": {},
          "output_type": "display_data"
        },
        {
          "name": "stderr",
          "output_type": "stream",
          "text": [
            "/Library/Frameworks/Python.framework/Versions/3.13/lib/python3.13/site-packages/torch/utils/data/dataloader.py:683: UserWarning: 'pin_memory' argument is set as true but not supported on MPS now, then device pinned memory won't be used.\n",
            "  warnings.warn(warn_msg)\n",
            "/Library/Frameworks/Python.framework/Versions/3.13/lib/python3.13/site-packages/torch/utils/data/dataloader.py:683: UserWarning: 'pin_memory' argument is set as true but not supported on MPS now, then device pinned memory won't be used.\n",
            "  warnings.warn(warn_msg)\n",
            "/Library/Frameworks/Python.framework/Versions/3.13/lib/python3.13/site-packages/torch/utils/data/dataloader.py:683: UserWarning: 'pin_memory' argument is set as true but not supported on MPS now, then device pinned memory won't be used.\n",
            "  warnings.warn(warn_msg)\n",
            "/Library/Frameworks/Python.framework/Versions/3.13/lib/python3.13/site-packages/torch/utils/data/dataloader.py:683: UserWarning: 'pin_memory' argument is set as true but not supported on MPS now, then device pinned memory won't be used.\n",
            "  warnings.warn(warn_msg)\n",
            "/Library/Frameworks/Python.framework/Versions/3.13/lib/python3.13/site-packages/torch/utils/data/dataloader.py:683: UserWarning: 'pin_memory' argument is set as true but not supported on MPS now, then device pinned memory won't be used.\n",
            "  warnings.warn(warn_msg)\n"
          ]
        },
        {
          "data": {
            "text/html": [
              "\n",
              "    <div>\n",
              "      \n",
              "      <progress value='3' max='3' style='width:300px; height:20px; vertical-align: middle;'></progress>\n",
              "      [3/3 00:01]\n",
              "    </div>\n",
              "    "
            ],
            "text/plain": [
              "<IPython.core.display.HTML object>"
            ]
          },
          "metadata": {},
          "output_type": "display_data"
        },
        {
          "name": "stdout",
          "output_type": "stream",
          "text": [
            "Validation Results: {'eval_loss': 0.7680767774581909, 'eval_accuracy': 0.678082191780822, 'eval_f1': 0.5753049621902081, 'eval_precision': 0.6025165310879596, 'eval_recall': 0.5643663526016467, 'eval_runtime': 1.9041, 'eval_samples_per_second': 76.676, 'eval_steps_per_second': 1.576, 'epoch': 5.0}\n"
          ]
        }
      ],
      "source": [
        "model = \"bert-base-uncased\"\n",
        "\n",
        "params = {\n",
        "    \"num_train_epochs\": 5,\n",
        "    \"learning_rate\": 4e-05,\n",
        "    \"per_device_train_batch_size\": 16,\n",
        "    \"per_device_eval_batch_size\": 64,\n",
        "    \"weight_decay\": 0.03,\n",
        "    \"dropout\": 0.2,\n",
        "    \"early_stopping_patience\": 5,\n",
        "    \"output_dir\": \"./bert_results\"\n",
        "}\n",
        "\n",
        "model, results = sexism_classification_pipeline_task2(\n",
        "    EnTrainTask2,\n",
        "    EnDevTask2,\n",
        "    model_name=model,\n",
        "    **params\n",
        ")\n"
      ]
    },
    {
      "cell_type": "markdown",
      "metadata": {},
      "source": [
        "Validation Results: {'eval_loss': 0.8539934754371643, 'eval_accuracy': 0.678082191780822, 'eval_f1': 0.548861323049933, 'eval_precision': 0.63264221158958, 'eval_recall': 0.5473644003055768, 'eval_runtime': 1.8623, 'eval_samples_per_second': 78.399, 'eval_steps_per_second': 1.611, 'epoch': 5.0}"
      ]
    },
    {
      "cell_type": "code",
      "execution_count": 89,
      "metadata": {
        "id": "yc7ZAvPOH7f6"
      },
      "outputs": [
        {
          "data": {
            "text/plain": [
              "{'eval_loss': 0.7757480144500732,\n",
              " 'eval_accuracy': 0.6575342465753424,\n",
              " 'eval_f1': 0.4984438984438985,\n",
              " 'eval_precision': 0.6011382113821138,\n",
              " 'eval_recall': 0.5178295560648501,\n",
              " 'eval_runtime': 2.4288,\n",
              " 'eval_samples_per_second': 60.112,\n",
              " 'eval_steps_per_second': 1.235,\n",
              " 'epoch': 5.0}"
            ]
          },
          "execution_count": 89,
          "metadata": {},
          "output_type": "execute_result"
        }
      ],
      "source": [
        "results"
      ]
    },
    {
      "cell_type": "markdown",
      "metadata": {},
      "source": [
        "### Save Model"
      ]
    },
    {
      "cell_type": "code",
      "execution_count": 90,
      "metadata": {},
      "outputs": [],
      "source": [
        "from transformers import AutoTokenizer\n",
        "\n",
        "model_name = \"bert-base-uncased\"  # or the model you actually used\n",
        "tokenizer = AutoTokenizer.from_pretrained(model_name)"
      ]
    },
    {
      "cell_type": "code",
      "execution_count": 91,
      "metadata": {},
      "outputs": [
        {
          "data": {
            "text/plain": [
              "('models/bert_sexism/tokenizer_config.json',\n",
              " 'models/bert_sexism/special_tokens_map.json',\n",
              " 'models/bert_sexism/vocab.txt',\n",
              " 'models/bert_sexism/added_tokens.json',\n",
              " 'models/bert_sexism/tokenizer.json')"
            ]
          },
          "execution_count": 91,
          "metadata": {},
          "output_type": "execute_result"
        }
      ],
      "source": [
        "model.save_pretrained(\"models/bert_sexism\")\n",
        "tokenizer.save_pretrained(\"models/bert_sexism\")"
      ]
    },
    {
      "cell_type": "markdown",
      "metadata": {},
      "source": [
        "### Get previous YES statement"
      ]
    },
    {
      "cell_type": "code",
      "execution_count": 147,
      "metadata": {},
      "outputs": [],
      "source": [
        "def get_ids(yes_ids):\n",
        "    with open(\"/Users/niklasdahlbom/Documents/Valencia/Lnr/Project/EXIST 2025 Tweets Dataset/test/EXIST2025_test_clean.json\", \"r\") as f:\n",
        "        test_json = json.load(f)\n",
        "\n",
        "    # Filter to only English tweets\n",
        "    english_tweets = [item for item in test_json.values() if item[\"lang\"] == \"en\"]\n",
        "\n",
        "    # YES tweets (IDs present in yes_ids)\n",
        "    yes_tweets = [t[\"tweet\"] for t in english_tweets if t[\"id_EXIST\"] in yes_ids]\n",
        "    yes_ids_filtered = [t[\"id_EXIST\"] for t in english_tweets if t[\"id_EXIST\"] in yes_ids]\n",
        "\n",
        "    # NO tweets (IDs not in yes_ids)\n",
        "    no_tweets = [t[\"tweet\"] for t in english_tweets if t[\"id_EXIST\"] not in yes_ids]\n",
        "    no_ids_filtered = [t[\"id_EXIST\"] for t in english_tweets if t[\"id_EXIST\"] not in yes_ids]\n",
        "\n",
        "    print(f\"Total English tweets in test set: {len(english_tweets)}\")\n",
        "    print(f\"English tweets predicted YES: {len(yes_tweets)}\")\n",
        "    print(f\"English tweets predicted NO: {len(no_tweets)}\")\n",
        "\n",
        "    return yes_ids_filtered, yes_tweets, no_ids_filtered, no_tweets\n"
      ]
    },
    {
      "cell_type": "code",
      "execution_count": 148,
      "metadata": {},
      "outputs": [
        {
          "name": "stdout",
          "output_type": "stream",
          "text": [
            "['600002', '600004', '600005', '600006', '600013']\n"
          ]
        }
      ],
      "source": [
        "# Load your BoW predictions from the JSON file\n",
        "with open(\"/Users/niklasdahlbom/Documents/Valencia/Lnr/Project/Task 1.1/Bert/bert_task1_submission.json\", \"r\") as f:\n",
        "    bert_results = json.load(f)\n",
        "\n",
        "# Extract the IDs that were predicted as \"YES\"\n",
        "yes_ids_bert = [entry[\"id\"] for entry in bert_results if entry[\"value\"] == \"YES\"]\n",
        "yes_ids_bert = [id_.replace(\"id_\", \"\") for id_ in yes_ids_bert]\n",
        "\n",
        "\n",
        "print(yes_ids_bert[:5])"
      ]
    },
    {
      "cell_type": "markdown",
      "metadata": {},
      "source": [
        "### Prediction"
      ]
    },
    {
      "cell_type": "code",
      "execution_count": 149,
      "metadata": {},
      "outputs": [
        {
          "name": "stdout",
          "output_type": "stream",
          "text": [
            "Total English tweets in test set: 978\n",
            "English tweets predicted YES: 430\n",
            "English tweets predicted NO: 548\n"
          ]
        }
      ],
      "source": [
        "filtered_ids, filtered_tweets, no_ids, no_tweets = get_ids(yes_ids_bert)\n",
        "\n",
        "cleaned_filtered_tweets = clean_text(filtered_tweets)\n",
        "\n",
        "# --- 2. Load model + tokenizer + label encoder ---\n",
        "model_path = \"models/bert_sexism\"  # path to your trained model\n",
        "tokenizer = AutoTokenizer.from_pretrained(model_path)\n",
        "model = AutoModelForSequenceClassification.from_pretrained(model_path)\n",
        "model.eval()\n",
        "\n",
        "labelEnc = LabelEncoder()\n",
        "labelEnc.fit([\"DIRECT\", \"REPORTED\", \"JUDGEMENTAL\"])\n",
        "\n",
        "device = torch.device(\"cuda\" if torch.cuda.is_available() else \"cpu\")\n",
        "model.to(device)\n",
        "\n",
        "# --- 4. Create dataset & dataloader ---\n",
        "test_dataset = SexismDataset(\n",
        "    texts=filtered_tweets,\n",
        "    labels=None,                     # No labels for inference\n",
        "    ids=filtered_ids,\n",
        "    tokenizer=tokenizer,\n",
        "    max_len=128\n",
        ")\n",
        "test_loader = DataLoader(test_dataset, batch_size=32)\n",
        "\n",
        "# --- 5. Predict ---\n",
        "all_preds = []\n",
        "\n",
        "with torch.no_grad():\n",
        "    for batch in test_loader:\n",
        "        input_ids = batch['input_ids'].to(device)\n",
        "        attention_mask = batch['attention_mask'].to(device)\n",
        "\n",
        "        outputs = model(input_ids=input_ids, attention_mask=attention_mask)\n",
        "        preds = torch.argmax(outputs.logits, axis=1)\n",
        "        all_preds.extend(preds.cpu().numpy())\n",
        "\n",
        "# --- 6. Decode labels ---\n",
        "pred_labels = labelEnc.inverse_transform(all_preds)"
      ]
    },
    {
      "cell_type": "markdown",
      "metadata": {},
      "source": [
        "### Save to json"
      ]
    },
    {
      "cell_type": "code",
      "execution_count": 151,
      "metadata": {},
      "outputs": [
        {
          "name": "stdout",
          "output_type": "stream",
          "text": [
            "Saved predictions including NO tweets to 'bert_task2_submission.json'\n"
          ]
        }
      ],
      "source": [
        "# After decoding pred_labels for the YES tweets\n",
        "output_json = []\n",
        "\n",
        "# YES predictions\n",
        "for tweet_id, label in zip(filtered_ids, pred_labels):\n",
        "    output_json.append({\n",
        "        \"id\": str(tweet_id),\n",
        "        \"value\": label,\n",
        "        \"test_case\": \"EXIST2025\"\n",
        "    })\n",
        "\n",
        "# NO predictions (no task 2 value assigned)\n",
        "for tweet_id in no_ids:\n",
        "    output_json.append({\n",
        "        \"id\": str(tweet_id),\n",
        "        \"value\": \"NO\",  # Placeholder\n",
        "        \"test_case\": \"EXIST2025\"\n",
        "    })\n",
        "\n",
        "# Optional: Sort by ID\n",
        "output_json = sorted(output_json, key=lambda x: int(x[\"id\"]))\n",
        "\n",
        "# Save\n",
        "with open(\"bert_task2_submission.json\", \"w\") as f:\n",
        "    json.dump(output_json, f, indent=4)\n",
        "\n",
        "print(\"Saved predictions including NO tweets to 'bert_task2_submission.json'\")\n"
      ]
    },
    {
      "cell_type": "markdown",
      "metadata": {},
      "source": [
        "### Spanish"
      ]
    },
    {
      "cell_type": "markdown",
      "metadata": {},
      "source": [
        "### Pipeline"
      ]
    },
    {
      "cell_type": "code",
      "execution_count": 160,
      "metadata": {},
      "outputs": [],
      "source": [
        "def sexism_classification_pipeline_task2_Spanish(\n",
        "    trainInfo,\n",
        "    devInfo,\n",
        "    testInfo=None,\n",
        "    model_name='dccuchile/bert-base-spanish-wwm-cased',\n",
        "    nlabels=3,\n",
        "    ptype=\"single_label_classification\",\n",
        "    dropout=0.1,  # Lägg till dropout här\n",
        "    **args\n",
        "):\n",
        "    # Model and Tokenizer\n",
        "    labelEnc = LabelEncoder()\n",
        "    tokenizer = AutoTokenizer.from_pretrained(model_name)\n",
        "\n",
        "    # Modify the model configuration to include dropout\n",
        "    config = AutoConfig.from_pretrained(\n",
        "        model_name,\n",
        "        num_labels=nlabels,\n",
        "        problem_type=ptype,\n",
        "        ignore_mismatched_sizes=True,\n",
        "        hidden_dropout_prob=dropout,  # Dropout för de dolda lagren\n",
        "        attention_probs_dropout_prob=dropout,  # Dropout för attention\n",
        "    )\n",
        "\n",
        "    # Load the model with the modified config\n",
        "    model = AutoModelForSequenceClassification.from_pretrained(model_name, config=config)\n",
        "\n",
        "    # Prepare datasets\n",
        "    train_dataset = SexismDataset(\n",
        "        trainInfo[1],\n",
        "        labelEnc.fit_transform(trainInfo[2]),\n",
        "        [int(x) for x in trainInfo[0]],\n",
        "        tokenizer\n",
        "    )\n",
        "    val_dataset = SexismDataset(\n",
        "        devInfo[1],\n",
        "        labelEnc.transform(devInfo[2]),\n",
        "        [int(x) for x in devInfo[0]],\n",
        "        tokenizer\n",
        "    )\n",
        "\n",
        "    # Training Arguments\n",
        "    training_args = TrainingArguments(\n",
        "        report_to=\"none\", # alt: \"wandb\", \"tensorboard\" \"comet_ml\" \"mlflow\" \"clearml\"\n",
        "        output_dir=args.get('output_dir', './results'),\n",
        "        num_train_epochs=args.get('num_train_epochs', 5),\n",
        "        learning_rate=args.get('learning_rate', 5e-5),\n",
        "        per_device_train_batch_size=args.get('per_device_train_batch_size', 16),\n",
        "        per_device_eval_batch_size=args.get('per_device_eval_batch_size', 64),\n",
        "        warmup_steps=args.get('warmup_steps', 500),\n",
        "        weight_decay=args.get('weight_decay', 0.01),\n",
        "        logging_dir=args.get('logging_dir', './logs'),\n",
        "        logging_steps=args.get('logging_steps', 10),\n",
        "        eval_strategy=args.get('eval_strategy', 'epoch'),\n",
        "        save_strategy=args.get('save_strategy', \"epoch\"),\n",
        "        save_total_limit=args.get('save_total_limit', 1),\n",
        "        load_best_model_at_end=args.get('load_best_model_at_end', True),\n",
        "        metric_for_best_model=args.get('metric_for_best_model', \"f1\")\n",
        "    )\n",
        "\n",
        "    # Initialize Trainer\n",
        "    trainer = Trainer(\n",
        "        model=model,\n",
        "        args=training_args,\n",
        "        train_dataset=train_dataset,\n",
        "        eval_dataset=val_dataset,\n",
        "        compute_metrics=compute_metrics_2,  # Se till att denna funktion är korrekt definierad\n",
        "        callbacks=[EarlyStoppingCallback(early_stopping_patience=args.get(\"early_stopping_patience\", 5))]\n",
        "    )\n",
        "\n",
        "    # Fine-tune the model\n",
        "    trainer.train()\n",
        "\n",
        "    # Evaluate on validation set\n",
        "    eval_results = trainer.evaluate()\n",
        "    print(\"Validation Results:\", eval_results)\n",
        "\n",
        "    # If there is a test dataset\n",
        "    if testInfo is not None:\n",
        "        # Prepare test dataset for prediction\n",
        "        test_dataset = SexismDataset(\n",
        "            testInfo[1],\n",
        "            [0] * len(testInfo[1]),\n",
        "            [int(x) for x in testInfo[0]],\n",
        "            tokenizer\n",
        "        )\n",
        "\n",
        "        # Predict test set labels\n",
        "        predictions = trainer.predict(test_dataset)\n",
        "        predicted_labels = np.argmax(predictions.predictions, axis=1)\n",
        "\n",
        "        # Create submission DataFrame\n",
        "        submission_df = pd.DataFrame({\n",
        "            'id': testInfo[0],\n",
        "            'label': labelEnc.inverse_transform(predicted_labels),\n",
        "            \"test_case\": [\"EXIST2025\"] * len(predicted_labels)\n",
        "        })\n",
        "\n",
        "        submission_df.to_csv('sexism_predictions_task2.csv', index=False)\n",
        "        print(\"Prediction TASK2 completed. Results saved to sexism_predictions_task2.csv\")\n",
        "        return model, submission_df\n",
        "\n",
        "    return model, eval_results\n"
      ]
    },
    {
      "cell_type": "markdown",
      "metadata": {},
      "source": [
        "### Model"
      ]
    },
    {
      "cell_type": "code",
      "execution_count": 129,
      "metadata": {},
      "outputs": [
        {
          "name": "stderr",
          "output_type": "stream",
          "text": [
            "Some weights of BertForSequenceClassification were not initialized from the model checkpoint at dccuchile/bert-base-spanish-wwm-cased and are newly initialized: ['bert.pooler.dense.bias', 'bert.pooler.dense.weight', 'classifier.bias', 'classifier.weight']\n",
            "You should probably TRAIN this model on a down-stream task to be able to use it for predictions and inference.\n",
            "/Library/Frameworks/Python.framework/Versions/3.13/lib/python3.13/site-packages/torch/utils/data/dataloader.py:683: UserWarning: 'pin_memory' argument is set as true but not supported on MPS now, then device pinned memory won't be used.\n",
            "  warnings.warn(warn_msg)\n"
          ]
        },
        {
          "data": {
            "text/html": [
              "\n",
              "    <div>\n",
              "      \n",
              "      <progress value='385' max='385' style='width:300px; height:20px; vertical-align: middle;'></progress>\n",
              "      [385/385 04:56, Epoch 5/5]\n",
              "    </div>\n",
              "    <table border=\"1\" class=\"dataframe\">\n",
              "  <thead>\n",
              " <tr style=\"text-align: left;\">\n",
              "      <th>Epoch</th>\n",
              "      <th>Training Loss</th>\n",
              "      <th>Validation Loss</th>\n",
              "      <th>Accuracy</th>\n",
              "      <th>F1</th>\n",
              "      <th>Precision</th>\n",
              "      <th>Recall</th>\n",
              "    </tr>\n",
              "  </thead>\n",
              "  <tbody>\n",
              "    <tr>\n",
              "      <td>1</td>\n",
              "      <td>0.917100</td>\n",
              "      <td>0.957847</td>\n",
              "      <td>0.560386</td>\n",
              "      <td>0.239422</td>\n",
              "      <td>0.186795</td>\n",
              "      <td>0.333333</td>\n",
              "    </tr>\n",
              "    <tr>\n",
              "      <td>2</td>\n",
              "      <td>0.721400</td>\n",
              "      <td>0.854414</td>\n",
              "      <td>0.584541</td>\n",
              "      <td>0.410331</td>\n",
              "      <td>0.457273</td>\n",
              "      <td>0.440585</td>\n",
              "    </tr>\n",
              "    <tr>\n",
              "      <td>3</td>\n",
              "      <td>0.660000</td>\n",
              "      <td>0.856922</td>\n",
              "      <td>0.657005</td>\n",
              "      <td>0.533032</td>\n",
              "      <td>0.654508</td>\n",
              "      <td>0.534759</td>\n",
              "    </tr>\n",
              "    <tr>\n",
              "      <td>4</td>\n",
              "      <td>0.539500</td>\n",
              "      <td>0.822236</td>\n",
              "      <td>0.637681</td>\n",
              "      <td>0.496247</td>\n",
              "      <td>0.556389</td>\n",
              "      <td>0.523197</td>\n",
              "    </tr>\n",
              "    <tr>\n",
              "      <td>5</td>\n",
              "      <td>0.434600</td>\n",
              "      <td>0.993365</td>\n",
              "      <td>0.695652</td>\n",
              "      <td>0.609763</td>\n",
              "      <td>0.660824</td>\n",
              "      <td>0.592574</td>\n",
              "    </tr>\n",
              "  </tbody>\n",
              "</table><p>"
            ],
            "text/plain": [
              "<IPython.core.display.HTML object>"
            ]
          },
          "metadata": {},
          "output_type": "display_data"
        },
        {
          "name": "stderr",
          "output_type": "stream",
          "text": [
            "/Library/Frameworks/Python.framework/Versions/3.13/lib/python3.13/site-packages/torch/utils/data/dataloader.py:683: UserWarning: 'pin_memory' argument is set as true but not supported on MPS now, then device pinned memory won't be used.\n",
            "  warnings.warn(warn_msg)\n",
            "/Library/Frameworks/Python.framework/Versions/3.13/lib/python3.13/site-packages/torch/utils/data/dataloader.py:683: UserWarning: 'pin_memory' argument is set as true but not supported on MPS now, then device pinned memory won't be used.\n",
            "  warnings.warn(warn_msg)\n",
            "/Library/Frameworks/Python.framework/Versions/3.13/lib/python3.13/site-packages/torch/utils/data/dataloader.py:683: UserWarning: 'pin_memory' argument is set as true but not supported on MPS now, then device pinned memory won't be used.\n",
            "  warnings.warn(warn_msg)\n",
            "/Library/Frameworks/Python.framework/Versions/3.13/lib/python3.13/site-packages/torch/utils/data/dataloader.py:683: UserWarning: 'pin_memory' argument is set as true but not supported on MPS now, then device pinned memory won't be used.\n",
            "  warnings.warn(warn_msg)\n",
            "/Library/Frameworks/Python.framework/Versions/3.13/lib/python3.13/site-packages/torch/utils/data/dataloader.py:683: UserWarning: 'pin_memory' argument is set as true but not supported on MPS now, then device pinned memory won't be used.\n",
            "  warnings.warn(warn_msg)\n"
          ]
        },
        {
          "data": {
            "text/html": [
              "\n",
              "    <div>\n",
              "      \n",
              "      <progress value='4' max='4' style='width:300px; height:20px; vertical-align: middle;'></progress>\n",
              "      [4/4 00:01]\n",
              "    </div>\n",
              "    "
            ],
            "text/plain": [
              "<IPython.core.display.HTML object>"
            ]
          },
          "metadata": {},
          "output_type": "display_data"
        },
        {
          "name": "stdout",
          "output_type": "stream",
          "text": [
            "Validation Results: {'eval_loss': 0.9933649897575378, 'eval_accuracy': 0.6956521739130435, 'eval_f1': 0.6097630197247056, 'eval_precision': 0.660823754789272, 'eval_recall': 0.5925738111336488, 'eval_runtime': 2.3586, 'eval_samples_per_second': 87.762, 'eval_steps_per_second': 1.696, 'epoch': 5.0}\n"
          ]
        }
      ],
      "source": [
        "model = \"dccuchile/bert-base-spanish-wwm-cased\"\n",
        "\n",
        "params = {\n",
        "    \"num_train_epochs\": 5,\n",
        "    \"learning_rate\": 4e-05,\n",
        "    \"per_device_train_batch_size\": 16,\n",
        "    \"per_device_eval_batch_size\": 64,\n",
        "    \"weight_decay\": 0.03,\n",
        "    \"dropout\": 0.2,\n",
        "    \"early_stopping_patience\": 5,\n",
        "    \"output_dir\": \"./bert_results\"\n",
        "}\n",
        "\n",
        "model, results = sexism_classification_pipeline_task2_Spanish(\n",
        "    SpTrainTask2,\n",
        "    SpDevTask2,\n",
        "    model_name=model,\n",
        "    **params\n",
        ")\n"
      ]
    },
    {
      "cell_type": "markdown",
      "metadata": {},
      "source": [
        "Validation Results: {'eval_loss': 0.9933649897575378, 'eval_accuracy': 0.6956521739130435, 'eval_f1': 0.6097630197247056, 'eval_precision': 0.660823754789272, 'eval_recall': 0.5925738111336488, 'eval_runtime': 2.3586, 'eval_samples_per_second': 87.762, 'eval_steps_per_second': 1.696, 'epoch': 5.0}"
      ]
    },
    {
      "cell_type": "markdown",
      "metadata": {},
      "source": [
        "### Save Model"
      ]
    },
    {
      "cell_type": "code",
      "execution_count": 130,
      "metadata": {},
      "outputs": [],
      "source": [
        "from transformers import AutoTokenizer\n",
        "\n",
        "model_name = \"dccuchile/bert-base-spanish-wwm-cased\"  # or the model you actually used\n",
        "tokenizer = AutoTokenizer.from_pretrained(model_name)"
      ]
    },
    {
      "cell_type": "code",
      "execution_count": 131,
      "metadata": {},
      "outputs": [
        {
          "data": {
            "text/plain": [
              "('models_spanish/bert-base-spanish-wwm-cased/tokenizer_config.json',\n",
              " 'models_spanish/bert-base-spanish-wwm-cased/special_tokens_map.json',\n",
              " 'models_spanish/bert-base-spanish-wwm-cased/vocab.txt',\n",
              " 'models_spanish/bert-base-spanish-wwm-cased/added_tokens.json',\n",
              " 'models_spanish/bert-base-spanish-wwm-cased/tokenizer.json')"
            ]
          },
          "execution_count": 131,
          "metadata": {},
          "output_type": "execute_result"
        }
      ],
      "source": [
        "model.save_pretrained(\"models_spanish/bert-base-spanish-wwm-cased\")\n",
        "tokenizer.save_pretrained(\"models_spanish/bert-base-spanish-wwm-cased\")"
      ]
    },
    {
      "cell_type": "markdown",
      "metadata": {},
      "source": [
        "### Get previous YES statements"
      ]
    },
    {
      "cell_type": "code",
      "execution_count": 161,
      "metadata": {},
      "outputs": [],
      "source": [
        "def get_ids_spanish(yes_ids):\n",
        "    with open(\"/Users/niklasdahlbom/Documents/Valencia/Lnr/Project/EXIST 2025 Tweets Dataset/test/EXIST2025_test_clean.json\", \"r\") as f:\n",
        "        test_json = json.load(f)\n",
        "\n",
        "    # Spanish tweets only\n",
        "    spanish_tweets = [item for item in test_json.values() if item[\"lang\"] == \"es\"]\n",
        "\n",
        "    # YES tweets\n",
        "    yes_tweets = [t[\"tweet\"] for t in spanish_tweets if t[\"id_EXIST\"] in yes_ids]\n",
        "    yes_ids_filtered = [t[\"id_EXIST\"] for t in spanish_tweets if t[\"id_EXIST\"] in yes_ids]\n",
        "\n",
        "    # NO tweets (not in yes_ids)\n",
        "    no_tweets = [t[\"tweet\"] for t in spanish_tweets if t[\"id_EXIST\"] not in yes_ids]\n",
        "    no_ids_filtered = [t[\"id_EXIST\"] for t in spanish_tweets if t[\"id_EXIST\"] not in yes_ids]\n",
        "\n",
        "    print(f\"Spanish tweets predicted YES: {len(yes_tweets)}\")\n",
        "    print(f\"Spanish tweets predicted NO: {len(no_tweets)}\")\n",
        "\n",
        "    return yes_ids_filtered, yes_tweets, no_ids_filtered, no_tweets\n"
      ]
    },
    {
      "cell_type": "code",
      "execution_count": 162,
      "metadata": {},
      "outputs": [
        {
          "name": "stdout",
          "output_type": "stream",
          "text": [
            "['500004', '500012', '500019', '500020', '500022']\n"
          ]
        }
      ],
      "source": [
        "# Load your BoW predictions from the JSON file\n",
        "with open(\"/Users/niklasdahlbom/Documents/Valencia/Lnr/Project/Task 1.1/Bert/bert_task1_submission_Spanish.json\", \"r\") as f:\n",
        "    bert_results = json.load(f)\n",
        "\n",
        "# Extract the IDs that were predicted as \"YES\"\n",
        "yes_ids_bert = [entry[\"id\"] for entry in bert_results if entry[\"value\"] == \"YES\"]\n",
        "yes_ids_bert = [id_.replace(\"id_\", \"\") for id_ in yes_ids_bert]\n",
        "\n",
        "\n",
        "print(yes_ids_bert[:5])"
      ]
    },
    {
      "cell_type": "markdown",
      "metadata": {},
      "source": [
        "### Prediction"
      ]
    },
    {
      "cell_type": "code",
      "execution_count": 165,
      "metadata": {},
      "outputs": [
        {
          "name": "stdout",
          "output_type": "stream",
          "text": [
            "Spanish tweets predicted YES: 567\n",
            "Spanish tweets predicted NO: 531\n",
            "['500001', '500002', '500003', '500005', '500006']\n"
          ]
        }
      ],
      "source": [
        "filtered_ids, filtered_tweets, no_ids, no_tweets = get_ids_spanish(yes_ids_bert)\n",
        "\n",
        "cleaned_filtered_tweets = clean_text(filtered_tweets)\n",
        "\n",
        "# --- 2. Load model + tokenizer + label encoder ---\n",
        "model_path = \"models_spanish/bert-base-spanish-wwm-cased\"  # path to your trained model\n",
        "tokenizer = AutoTokenizer.from_pretrained(model_path)\n",
        "model = AutoModelForSequenceClassification.from_pretrained(model_path)\n",
        "model.eval()\n",
        "\n",
        "labelEnc = LabelEncoder()\n",
        "labelEnc.fit([\"DIRECT\", \"REPORTED\", \"JUDGEMENTAL\"])\n",
        "\n",
        "device = torch.device(\"cuda\" if torch.cuda.is_available() else \"cpu\")\n",
        "model.to(device)\n",
        "\n",
        "# --- 4. Create dataset & dataloader ---\n",
        "test_dataset = SexismDataset(\n",
        "    texts=filtered_tweets,\n",
        "    labels=None,                     # No labels for inference\n",
        "    ids=filtered_ids,\n",
        "    tokenizer=tokenizer,\n",
        "    max_len=128\n",
        ")\n",
        "test_loader = DataLoader(test_dataset, batch_size=32)\n",
        "\n",
        "# --- 5. Predict ---\n",
        "all_preds = []\n",
        "\n",
        "with torch.no_grad():\n",
        "    for batch in test_loader:\n",
        "        input_ids = batch['input_ids'].to(device)\n",
        "        attention_mask = batch['attention_mask'].to(device)\n",
        "\n",
        "        outputs = model(input_ids=input_ids, attention_mask=attention_mask)\n",
        "        preds = torch.argmax(outputs.logits, axis=1)\n",
        "        all_preds.extend(preds.cpu().numpy())\n",
        "\n",
        "# --- 6. Decode labels ---\n",
        "pred_labels = labelEnc.inverse_transform(all_preds)"
      ]
    },
    {
      "cell_type": "markdown",
      "metadata": {},
      "source": [
        "### Save to json"
      ]
    },
    {
      "cell_type": "code",
      "execution_count": 169,
      "metadata": {},
      "outputs": [
        {
          "name": "stdout",
          "output_type": "stream",
          "text": [
            "Saved predictions including NO tweets to 'bert_task2_submission_Spanish.json'\n"
          ]
        }
      ],
      "source": [
        "# After decoding pred_labels for the YES tweets\n",
        "output_json = []\n",
        "\n",
        "# YES predictions\n",
        "for tweet_id, label in zip(filtered_ids, pred_labels):\n",
        "    output_json.append({\n",
        "        \"id\": str(tweet_id),\n",
        "        \"value\": label,\n",
        "        \"test_case\": \"EXIST2025\"\n",
        "    })\n",
        "\n",
        "# NO predictions (no task 2 value assigned)\n",
        "for tweet_id in no_ids:\n",
        "    output_json.append({\n",
        "        \"id\": str(tweet_id),\n",
        "        \"value\": \"NO\",  # Placeholder\n",
        "        \"test_case\": \"EXIST2025\"\n",
        "    })\n",
        "\n",
        "# Optional: Sort by ID\n",
        "output_json = sorted(output_json, key=lambda x: int(x[\"id\"]))\n",
        "\n",
        "# Save\n",
        "with open(\"bert_task2_submission_Spanish.json\", \"w\") as f:\n",
        "    json.dump(output_json, f, indent=4)\n",
        "\n",
        "print(\"Saved predictions including NO tweets to 'bert_task2_submission_Spanish.json'\")\n"
      ]
    },
    {
      "cell_type": "markdown",
      "metadata": {},
      "source": [
        "### File Merge"
      ]
    },
    {
      "cell_type": "code",
      "execution_count": 170,
      "metadata": {},
      "outputs": [
        {
          "name": "stdout",
          "output_type": "stream",
          "text": [
            "Merged 978 EN + 1098 ES = 2076 total predictions.\n"
          ]
        }
      ],
      "source": [
        "filename_english = \"bert_task2_submission.json\"\n",
        "filename_spanish = \"bert_task2_submission_Spanish.json\"\n",
        "filename_merged = \"bert_task2_submission_merge.json\"\n",
        "\n",
        "def merge_predictions(filename_english, filename_spanish, filename_merged):\n",
        "    # Load English predictions\n",
        "    with open(filename_english, \"r\", encoding=\"utf-8\") as f_en:\n",
        "        preds_en = json.load(f_en)\n",
        "\n",
        "    # Load Spanish predictions\n",
        "    with open(filename_spanish, \"r\", encoding=\"utf-8\") as f_es:\n",
        "        preds_es = json.load(f_es)\n",
        "\n",
        "    # Merge the two lists\n",
        "    merged_preds = preds_es + preds_en\n",
        "\n",
        "    # Save the combined predictions\n",
        "    with open(filename_merged, \"w\", encoding=\"utf-8\") as f_out:\n",
        "        json.dump(merged_preds, f_out, ensure_ascii=False, indent=2)\n",
        "\n",
        "    print(f\"Merged {len(preds_en)} EN + {len(preds_es)} ES = {len(merged_preds)} total predictions.\")\n",
        "    \n",
        "    \n",
        "merge_predictions(\n",
        "    filename_english,\n",
        "    filename_spanish,\n",
        "    filename_merged\n",
        ")"
      ]
    }
  ],
  "metadata": {
    "colab": {
      "provenance": []
    },
    "kernelspec": {
      "display_name": "Python 3",
      "name": "python3"
    },
    "language_info": {
      "codemirror_mode": {
        "name": "ipython",
        "version": 3
      },
      "file_extension": ".py",
      "mimetype": "text/x-python",
      "name": "python",
      "nbconvert_exporter": "python",
      "pygments_lexer": "ipython3",
      "version": "3.13.3"
    }
  },
  "nbformat": 4,
  "nbformat_minor": 0
}
